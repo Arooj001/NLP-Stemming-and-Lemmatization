{
 "cells": [
  {
   "cell_type": "code",
   "execution_count": 1,
   "id": "7d568c76",
   "metadata": {},
   "outputs": [],
   "source": [
    "import nltk\n",
    "import spacy \n",
    "from nltk.stem import PorterStemmer\n",
    "stemmer = PorterStemmer()\n",
    "nlp = spacy.load(\"en_core_web_sm\")"
   ]
  },
  {
   "cell_type": "markdown",
   "id": "26e12acf",
   "metadata": {},
   "source": [
    "# Exercise1:\n",
    "\n",
    "* ***Convert these list of words into base form using Stemming and Lemmatization and observe the transformations***\n",
    "* ***Write a short note on the words that have different base words using stemming and Lemmatization***"
   ]
  },
  {
   "cell_type": "code",
   "execution_count": 2,
   "id": "13136ec8",
   "metadata": {},
   "outputs": [
    {
     "name": "stdout",
     "output_type": "stream",
     "text": [
      "running | run\n",
      "painting | paint\n",
      "walking | walk\n",
      "dressing | dress\n",
      "likely | like\n",
      "children | children\n",
      "whom | whom\n",
      "good | good\n",
      "ate | ate\n",
      "fishing | fish\n"
     ]
    }
   ],
   "source": [
    "lst_words = ['running', 'painting', 'walking', 'dressing', 'likely', 'children', 'whom', 'good', 'ate', 'fishing']\n",
    "\n",
    "for word in lst_words:\n",
    "    print(word, \"|\", stemmer.stem(word))"
   ]
  },
  {
   "cell_type": "markdown",
   "id": "3147c2c6",
   "metadata": {},
   "source": [
    "***Stemming***"
   ]
  },
  {
   "cell_type": "code",
   "execution_count": 4,
   "id": "83cbc098",
   "metadata": {},
   "outputs": [
    {
     "name": "stdout",
     "output_type": "stream",
     "text": [
      "running  |  run\n",
      "painting  |  paint\n",
      "walking  |  walk\n",
      "dressing  |  dress\n",
      "likely  |  likely\n",
      "children  |  child\n",
      "whom  |  whom\n",
      "good  |  good\n",
      "ate  |  eat\n",
      "fishing  |  fishing\n"
     ]
    }
   ],
   "source": [
    "doc = nlp(\"running painting walking dressing likely children whom good ate fishing\")\n",
    "\n",
    "for token in doc:\n",
    "    print(token, \" | \", token.lemma_)"
   ]
  },
  {
   "cell_type": "code",
   "execution_count": 5,
   "id": "394ac8e4",
   "metadata": {},
   "outputs": [
    {
     "name": "stdout",
     "output_type": "stream",
     "text": [
      "running  |  run  |  12767647472892411841\n",
      "painting  |  paint  |  16929211676819693673\n",
      "walking  |  walk  |  1674876016505392235\n",
      "dressing  |  dress  |  12815368344456308931\n",
      "likely  |  likely  |  6740298879949941214\n",
      "children  |  child  |  737253710922290542\n",
      "whom  |  whom  |  685434301945620124\n",
      "good  |  good  |  5711639017775284443\n",
      "ate  |  eat  |  9837207709914848172\n",
      "fishing  |  fishing  |  10959402079719336560\n"
     ]
    }
   ],
   "source": [
    "doc = nlp(\"running painting walking dressing likely children whom good ate fishing\")\n",
    "\n",
    "for token in doc:\n",
    "    print(token, \" | \", token.lemma_, \" | \", token.lemma)"
   ]
  },
  {
   "cell_type": "markdown",
   "id": "acf7689f",
   "metadata": {},
   "source": [
    "# Exercise2:\n",
    "\n",
    "* ***convert the given text into it's base form using both stemming and lemmatization***"
   ]
  },
  {
   "cell_type": "markdown",
   "id": "aa64801c",
   "metadata": {},
   "source": [
    "***Stemming***"
   ]
  },
  {
   "cell_type": "code",
   "execution_count": 6,
   "id": "a8822586",
   "metadata": {},
   "outputs": [],
   "source": [
    "text = \"\"\"Latha is very multi talented girl.She is good at many skills like dancing, running, singing, playing.She also likes eating Pav Bhagi. she has a \n",
    "habit of fishing and swimming too.Besides all this, she is a wonderful at cooking too.\n",
    "\"\"\""
   ]
  },
  {
   "cell_type": "code",
   "execution_count": 7,
   "id": "f4213e88",
   "metadata": {},
   "outputs": [],
   "source": [
    "all_word_tokens = nltk.word_tokenize(text)\n",
    "\n",
    "all_base_words = []\n",
    "\n",
    "for token in all_word_tokens:\n",
    "    base_form = stemmer.stem(token)\n",
    "    all_base_words.append(base_form)"
   ]
  },
  {
   "cell_type": "code",
   "execution_count": 8,
   "id": "67049902",
   "metadata": {},
   "outputs": [
    {
     "name": "stdout",
     "output_type": "stream",
     "text": [
      "latha is veri multi talent girl.sh is good at mani skill like danc , run , sing , playing.sh also like eat pav bhagi . she ha a habit of fish and swim too.besid all thi , she is a wonder at cook too .\n"
     ]
    }
   ],
   "source": [
    "final_base_text = ' '.join(all_base_words)\n",
    "print(final_base_text)"
   ]
  },
  {
   "cell_type": "markdown",
   "id": "bb2735fd",
   "metadata": {},
   "source": [
    "***Lemmatization***"
   ]
  },
  {
   "cell_type": "code",
   "execution_count": 9,
   "id": "73f21739",
   "metadata": {},
   "outputs": [],
   "source": [
    "text = \"\"\"Latha is very multi talented girl.She is good at many skills like dancing, running, singing, playing.She also likes eating Pav Bhagi. she has a \n",
    "habit of fishing and swimming too.Besides all this, she is a wonderful at cooking too.\n",
    "\"\"\""
   ]
  },
  {
   "cell_type": "code",
   "execution_count": 11,
   "id": "e745cb41",
   "metadata": {},
   "outputs": [
    {
     "name": "stdout",
     "output_type": "stream",
     "text": [
      "Latha be very multi talented girl . she be good at many skill like dancing , running , singing , play . she also like eat Pav Bhagi . she have a \n",
      " habit of fishing and swim too . besides all this , she be a wonderful at cook too . \n",
      "\n"
     ]
    }
   ],
   "source": [
    "doc = nlp(text)\n",
    "\n",
    "all_base_words = []\n",
    "\n",
    "for token in doc:\n",
    "    base_word = token.lemma_\n",
    "    all_base_words.append(base_word)\n",
    "    \n",
    "final_base_text = ' '.join(all_base_words)\n",
    "print(final_base_text)"
   ]
  }
 ],
 "metadata": {
  "kernelspec": {
   "display_name": "Python 3 (ipykernel)",
   "language": "python",
   "name": "python3"
  },
  "language_info": {
   "codemirror_mode": {
    "name": "ipython",
    "version": 3
   },
   "file_extension": ".py",
   "mimetype": "text/x-python",
   "name": "python",
   "nbconvert_exporter": "python",
   "pygments_lexer": "ipython3",
   "version": "3.11.5"
  }
 },
 "nbformat": 4,
 "nbformat_minor": 5
}
